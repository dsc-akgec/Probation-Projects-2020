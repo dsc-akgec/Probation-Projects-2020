{
  "nbformat": 4,
  "nbformat_minor": 0,
  "metadata": {
    "colab": {
      "name": "VER_MLPC.ipynb",
      "provenance": [],
      "mount_file_id": "1C5Zz3dxA827t9ncC6NTV082qKTJtK-G4",
      "authorship_tag": "ABX9TyNKHeHEOGeiLd0QAFmxQYZt",
      "include_colab_link": true
    },
    "kernelspec": {
      "name": "python3",
      "display_name": "Python 3"
    }
  },
  "cells": [
    {
      "cell_type": "markdown",
      "metadata": {
        "id": "view-in-github",
        "colab_type": "text"
      },
      "source": [
        "<a href=\"https://colab.research.google.com/github/ManyaChdry/Probation-Projects-2020/blob/main/VER_MLPC.ipynb\" target=\"_parent\"><img src=\"https://colab.research.google.com/assets/colab-badge.svg\" alt=\"Open In Colab\"/></a>"
      ]
    },
    {
      "cell_type": "markdown",
      "metadata": {
        "id": "r_9t8fHqbWuM"
      },
      "source": [
        "# **VOICE EMOTION RECOGNITION**\n",
        "\n",
        "---\n",
        "## DSC Probation Project (Sept-Oct 2020)"
      ]
    },
    {
      "cell_type": "markdown",
      "metadata": {
        "id": "Jie2kwjX4GZN"
      },
      "source": [
        "using MLPClassifier"
      ]
    },
    {
      "cell_type": "code",
      "metadata": {
        "id": "PnYk_em8SQ5K",
        "outputId": "3142ede2-6383-478c-d02d-abbd5b69e92d",
        "colab": {
          "base_uri": "https://localhost:8080/",
          "height": 518
        }
      },
      "source": [
        "pip install librosa soundfile numpy sklearn pyaudio"
      ],
      "execution_count": 33,
      "outputs": [
        {
          "output_type": "stream",
          "text": [
            "Requirement already satisfied: librosa in /usr/local/lib/python3.6/dist-packages (0.6.3)\n",
            "Requirement already satisfied: soundfile in /usr/local/lib/python3.6/dist-packages (0.10.3.post1)\n",
            "Requirement already satisfied: numpy in /usr/local/lib/python3.6/dist-packages (1.18.5)\n",
            "Requirement already satisfied: sklearn in /usr/local/lib/python3.6/dist-packages (0.0)\n",
            "Collecting pyaudio\n",
            "  Using cached https://files.pythonhosted.org/packages/ab/42/b4f04721c5c5bfc196ce156b3c768998ef8c0ae3654ed29ea5020c749a6b/PyAudio-0.2.11.tar.gz\n",
            "Requirement already satisfied: decorator>=3.0.0 in /usr/local/lib/python3.6/dist-packages (from librosa) (4.4.2)\n",
            "Requirement already satisfied: scikit-learn!=0.19.0,>=0.14.0 in /usr/local/lib/python3.6/dist-packages (from librosa) (0.22.2.post1)\n",
            "Requirement already satisfied: scipy>=1.0.0 in /usr/local/lib/python3.6/dist-packages (from librosa) (1.4.1)\n",
            "Requirement already satisfied: joblib>=0.12 in /usr/local/lib/python3.6/dist-packages (from librosa) (0.16.0)\n",
            "Requirement already satisfied: numba>=0.38.0 in /usr/local/lib/python3.6/dist-packages (from librosa) (0.48.0)\n",
            "Requirement already satisfied: audioread>=2.0.0 in /usr/local/lib/python3.6/dist-packages (from librosa) (2.1.8)\n",
            "Requirement already satisfied: resampy>=0.2.0 in /usr/local/lib/python3.6/dist-packages (from librosa) (0.2.2)\n",
            "Requirement already satisfied: six>=1.3 in /usr/local/lib/python3.6/dist-packages (from librosa) (1.15.0)\n",
            "Requirement already satisfied: cffi>=1.0 in /usr/local/lib/python3.6/dist-packages (from soundfile) (1.14.3)\n",
            "Requirement already satisfied: setuptools in /usr/local/lib/python3.6/dist-packages (from numba>=0.38.0->librosa) (50.3.0)\n",
            "Requirement already satisfied: llvmlite<0.32.0,>=0.31.0dev0 in /usr/local/lib/python3.6/dist-packages (from numba>=0.38.0->librosa) (0.31.0)\n",
            "Requirement already satisfied: pycparser in /usr/local/lib/python3.6/dist-packages (from cffi>=1.0->soundfile) (2.20)\n",
            "Building wheels for collected packages: pyaudio\n",
            "  Building wheel for pyaudio (setup.py) ... \u001b[?25lerror\n",
            "\u001b[31m  ERROR: Failed building wheel for pyaudio\u001b[0m\n",
            "\u001b[?25h  Running setup.py clean for pyaudio\n",
            "Failed to build pyaudio\n",
            "Installing collected packages: pyaudio\n",
            "    Running setup.py install for pyaudio ... \u001b[?25l\u001b[?25herror\n",
            "\u001b[31mERROR: Command errored out with exit status 1: /usr/bin/python3 -u -c 'import sys, setuptools, tokenize; sys.argv[0] = '\"'\"'/tmp/pip-install-c0ariufj/pyaudio/setup.py'\"'\"'; __file__='\"'\"'/tmp/pip-install-c0ariufj/pyaudio/setup.py'\"'\"';f=getattr(tokenize, '\"'\"'open'\"'\"', open)(__file__);code=f.read().replace('\"'\"'\\r\\n'\"'\"', '\"'\"'\\n'\"'\"');f.close();exec(compile(code, __file__, '\"'\"'exec'\"'\"'))' install --record /tmp/pip-record-_rr4nzjl/install-record.txt --single-version-externally-managed --compile Check the logs for full command output.\u001b[0m\n"
          ],
          "name": "stdout"
        }
      ]
    },
    {
      "cell_type": "code",
      "metadata": {
        "id": "0KUVmjweTk-9",
        "outputId": "c922a32c-55dc-4423-905e-e0270ed9e3f3",
        "colab": {
          "base_uri": "https://localhost:8080/",
          "height": 72
        }
      },
      "source": [
        "pip install soundfile"
      ],
      "execution_count": 34,
      "outputs": [
        {
          "output_type": "stream",
          "text": [
            "Requirement already satisfied: soundfile in /usr/local/lib/python3.6/dist-packages (0.10.3.post1)\n",
            "Requirement already satisfied: cffi>=1.0 in /usr/local/lib/python3.6/dist-packages (from soundfile) (1.14.3)\n",
            "Requirement already satisfied: pycparser in /usr/local/lib/python3.6/dist-packages (from cffi>=1.0->soundfile) (2.20)\n"
          ],
          "name": "stdout"
        }
      ]
    },
    {
      "cell_type": "code",
      "metadata": {
        "id": "IJkwsZStTsTT"
      },
      "source": [
        "import librosa\n",
        "import soundfile\n",
        "import os\n",
        "import glob\n",
        "import _pickle as pickle\n",
        "import numpy as np"
      ],
      "execution_count": 35,
      "outputs": []
    },
    {
      "cell_type": "code",
      "metadata": {
        "id": "jKFt7sYBUHyQ"
      },
      "source": [
        "from sklearn.model_selection import train_test_split\n",
        "from sklearn.neural_network import MLPClassifier\n",
        "from sklearn.metrics import accuracy_score"
      ],
      "execution_count": 36,
      "outputs": []
    },
    {
      "cell_type": "markdown",
      "metadata": {
        "id": "pONcwQjoQyNr"
      },
      "source": [
        "Now we define a function, '***extract_feature***', which takes in four values:  '*file-name*',  '*mfcc*',  '*chroma*' and  '*mel*'."
      ]
    },
    {
      "cell_type": "markdown",
      "metadata": {
        "id": "N85iEjcFRYFE"
      },
      "source": [
        "- **mfcc **: Mel Frequency Cepstral Coefficient, represents the short term power spectrum of sound\n",
        "\n",
        "- **chroma** : Pertains to the 12 different Pitch classes\n",
        "- **mel** : Mel Spectrogram Frequency\n",
        "\n",
        "\n"
      ]
    },
    {
      "cell_type": "code",
      "metadata": {
        "id": "mcmRTGDrUJzf"
      },
      "source": [
        "def extract_feature(file_name, mfcc, chroma, mel):\n",
        "    X, sample_rate = librosa.load(os.path.join(file_name), res_type = 'kaiser_fast')\n",
        "    if chroma:\n",
        "       stft=np.abs(librosa.stft(X))\n",
        "       result = np.array([])\n",
        "    if mfcc:\n",
        "        mfccs = np.mean(librosa.feature.mfcc(y = X, sr = sample_rate, n_mfcc = 40).T, axis = 0)\n",
        "        result = np.hstack((result, mfccs))\n",
        "    if chroma:\n",
        "        chroma=np.mean(librosa.feature.chroma_stft(S = stft, sr = sample_rate).T,axis = 0)\n",
        "        result=np.hstack((result, chroma))\n",
        "    if mel:\n",
        "        mel = np.mean(librosa.feature.melspectrogram(X, sr = sample_rate).T,axis = 0)\n",
        "        result = np.hstack((result, mel))\n",
        "    return result"
      ],
      "execution_count": 37,
      "outputs": []
    },
    {
      "cell_type": "code",
      "metadata": {
        "id": "VLnHb3QvVaQf"
      },
      "source": [
        "# Emotions in the dataset\n",
        "emotions={\n",
        "          '01':'neutral',\n",
        "          '02':'calm',\n",
        "          '03':'happy',\n",
        "          '04':'sad',\n",
        "          '05':'angry',\n",
        "          '06':'fearful',\n",
        "          '07':'disgust',\n",
        "          '08':'surprised',\n",
        "         }\n",
        "# Emotions to observe\n",
        "observed_emotions = ['neutral','calm','happy','sad','angry','fearful','disgust','surprised']"
      ],
      "execution_count": 38,
      "outputs": []
    },
    {
      "cell_type": "code",
      "metadata": {
        "id": "IPe2VKub_ZMT"
      },
      "source": [
        "def load_data(test_size=0.2):\n",
        "            x,y=[],[]\n",
        "            for file in glob.glob('/content/drive/My Drive/speech/Actor_*/*.wav'):\n",
        "                file_name=os.path.basename(file)\n",
        "                emotion=emotions[file_name.split(\"-\")[2]]\n",
        "                if emotion not in observed_emotions:\n",
        "                    continue\n",
        "                feature=extract_feature(file, mfcc=True, chroma=True, mel=True)\n",
        "                x.append(feature)\n",
        "                y.append(emotion)\n",
        "            return train_test_split(np.array(x), y, test_size=test_size, train_size= 0.75,random_state=9)"
      ],
      "execution_count": 39,
      "outputs": []
    },
    {
      "cell_type": "code",
      "metadata": {
        "id": "_lx5Gdmm0THs"
      },
      "source": [
        "# Splitting the dataset\n",
        "import time\n",
        "x_train,x_test,y_train,y_test=load_data(test_size=0.25)"
      ],
      "execution_count": 40,
      "outputs": []
    },
    {
      "cell_type": "code",
      "metadata": {
        "id": "gfDMo4E-7YGP",
        "outputId": "2af2251a-0505-4d12-85e6-1db4a20bcddd",
        "colab": {
          "base_uri": "https://localhost:8080/",
          "height": 257
        }
      },
      "source": [
        "x_train"
      ],
      "execution_count": 41,
      "outputs": [
        {
          "output_type": "execute_result",
          "data": {
            "text/plain": [
              "array([[-5.90712982e+02,  7.46899927e+01, -2.91916731e+00, ...,\n",
              "         1.83884071e-06,  2.86085510e-07,  3.31972317e-08],\n",
              "       [-4.48751467e+02,  5.66297785e+01, -1.79117803e+01, ...,\n",
              "         1.19333032e-05,  2.10709016e-06,  1.88782791e-07],\n",
              "       [-6.48976321e+02,  7.70115638e+01,  1.34594055e+00, ...,\n",
              "         6.90492324e-08,  1.73962315e-08,  1.80400662e-09],\n",
              "       ...,\n",
              "       [-6.78000854e+02,  5.65455570e+01, -2.11965199e+00, ...,\n",
              "         1.51538677e-06,  3.79247510e-07,  4.45862856e-08],\n",
              "       [-3.54952943e+02,  2.82286023e+01, -4.85562212e+01, ...,\n",
              "         4.72839007e-05,  8.68914800e-06,  8.06023166e-07],\n",
              "       [-6.58780738e+02,  6.58860921e+01, -5.95752691e+00, ...,\n",
              "         2.04532784e-07,  4.99403598e-08,  3.97221845e-09]])"
            ]
          },
          "metadata": {
            "tags": []
          },
          "execution_count": 41
        }
      ]
    },
    {
      "cell_type": "code",
      "metadata": {
        "id": "QXrKvIgLXmHX",
        "outputId": "8cf69ab8-085e-44c7-c462-d95f6363ea30",
        "colab": {
          "base_uri": "https://localhost:8080/",
          "height": 35
        }
      },
      "source": [
        "# Getting the shape of the training and testing datasets\n",
        "print((x_train.shape[0], x_test.shape[0]))"
      ],
      "execution_count": 42,
      "outputs": [
        {
          "output_type": "stream",
          "text": [
            "(1087, 363)\n"
          ],
          "name": "stdout"
        }
      ]
    },
    {
      "cell_type": "code",
      "metadata": {
        "id": "dWGt5HrvX7KT",
        "outputId": "d9227538-e6fc-4b15-dea8-4231a62d7386",
        "colab": {
          "base_uri": "https://localhost:8080/",
          "height": 35
        }
      },
      "source": [
        "# Getting the number of features extracted\n",
        "print(f'Features extracted: {x_train.shape[1]}')"
      ],
      "execution_count": 43,
      "outputs": [
        {
          "output_type": "stream",
          "text": [
            "Features extracted: 180\n"
          ],
          "name": "stdout"
        }
      ]
    },
    {
      "cell_type": "code",
      "metadata": {
        "id": "K7Q1mcDYY0Lh"
      },
      "source": [
        "# Initializing the Multi-Layer Perceptron Classifier\n",
        "model = MLPClassifier(alpha = 0.01, batch_size = 256, epsilon = 1e-08, hidden_layer_sizes = (300,), learning_rate = 'adaptive', max_iter = 500)"
      ],
      "execution_count": 44,
      "outputs": []
    },
    {
      "cell_type": "code",
      "metadata": {
        "id": "Trhm3xFgZMcA",
        "outputId": "3e258eb4-7728-4377-d16e-b55f2f960223",
        "colab": {
          "base_uri": "https://localhost:8080/",
          "height": 165
        }
      },
      "source": [
        "# Training the model\n",
        "model.fit(x_train,y_train)"
      ],
      "execution_count": 45,
      "outputs": [
        {
          "output_type": "execute_result",
          "data": {
            "text/plain": [
              "MLPClassifier(activation='relu', alpha=0.01, batch_size=256, beta_1=0.9,\n",
              "              beta_2=0.999, early_stopping=False, epsilon=1e-08,\n",
              "              hidden_layer_sizes=(300,), learning_rate='adaptive',\n",
              "              learning_rate_init=0.001, max_fun=15000, max_iter=500,\n",
              "              momentum=0.9, n_iter_no_change=10, nesterovs_momentum=True,\n",
              "              power_t=0.5, random_state=None, shuffle=True, solver='adam',\n",
              "              tol=0.0001, validation_fraction=0.1, verbose=False,\n",
              "              warm_start=False)"
            ]
          },
          "metadata": {
            "tags": []
          },
          "execution_count": 45
        }
      ]
    },
    {
      "cell_type": "code",
      "metadata": {
        "id": "UUmyA1jla54E"
      },
      "source": [
        "# Prediction of the test set\n",
        "y_pred=model.predict(x_test)"
      ],
      "execution_count": 46,
      "outputs": []
    },
    {
      "cell_type": "code",
      "metadata": {
        "id": "zRk_BhNhap0Q"
      },
      "source": [
        "# Calculating the accuracy of our model\n",
        "accuracy = accuracy_score(y_true = y_test, y_pred = y_pred)"
      ],
      "execution_count": 47,
      "outputs": []
    },
    {
      "cell_type": "code",
      "metadata": {
        "id": "Qv6d8Z-x8ajX",
        "outputId": "13219e9f-3fb5-4813-9b81-dcde388fccf8",
        "colab": {
          "base_uri": "https://localhost:8080/",
          "height": 35
        }
      },
      "source": [
        "# Printing the accuracy\n",
        "print(\"Accuracy: {:.2f}%\".format(accuracy*100))"
      ],
      "execution_count": 48,
      "outputs": [
        {
          "output_type": "stream",
          "text": [
            "Accuracy: 56.20%\n"
          ],
          "name": "stdout"
        }
      ]
    }
  ]
}