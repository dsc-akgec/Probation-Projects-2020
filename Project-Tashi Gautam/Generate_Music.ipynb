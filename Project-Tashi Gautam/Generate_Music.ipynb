{
 "cells": [
  {
   "cell_type": "markdown",
   "metadata": {},
   "source": [
    "# MUSIC GENERATION\n",
    "## PART II"
   ]
  },
  {
   "cell_type": "code",
   "execution_count": 1,
   "metadata": {},
   "outputs": [],
   "source": [
    "from music21 import *\n",
    "import numpy as np"
   ]
  },
  {
   "cell_type": "code",
   "execution_count": 2,
   "metadata": {},
   "outputs": [],
   "source": [
    "import pickle "
   ]
  },
  {
   "cell_type": "code",
   "execution_count": 3,
   "metadata": {},
   "outputs": [],
   "source": [
    "%matplotlib inline"
   ]
  },
  {
   "cell_type": "code",
   "execution_count": 4,
   "metadata": {},
   "outputs": [],
   "source": [
    "#loading the input network\n",
    "with open(\"network_input.pkl\", \"rb\") as v:\n",
    "    network_input = pickle.load(v)"
   ]
  },
  {
   "cell_type": "code",
   "execution_count": 5,
   "metadata": {},
   "outputs": [],
   "source": [
    "#loading a dictionary to convert the integers back into notes and chords\n",
    "with open(\"int_to_note.pkl\", \"rb\") as t:\n",
    "    int_to_note = pickle.load(t)"
   ]
  },
  {
   "cell_type": "code",
   "execution_count": 6,
   "metadata": {},
   "outputs": [],
   "source": [
    "n_vocab = len(int_to_note)"
   ]
  },
  {
   "cell_type": "markdown",
   "metadata": {},
   "source": [
    "### Loading model architecture"
   ]
  },
  {
   "cell_type": "code",
   "execution_count": 7,
   "metadata": {},
   "outputs": [],
   "source": [
    "from keras.models import Sequential\n",
    "from keras.layers import Dense\n",
    "from keras.layers import LSTM\n",
    "from keras.layers import Dropout\n",
    "from keras.layers import Activation\n",
    "from keras.callbacks import ModelCheckpoint"
   ]
  },
  {
   "cell_type": "code",
   "execution_count": 8,
   "metadata": {},
   "outputs": [],
   "source": [
    "model = Sequential()"
   ]
  },
  {
   "cell_type": "code",
   "execution_count": 9,
   "metadata": {},
   "outputs": [],
   "source": [
    "model.add(LSTM( 500, input_shape=(network_input.shape[1], network_input.shape[2]), return_sequences=True))\n",
    "model.add(Dropout(0.2))"
   ]
  },
  {
   "cell_type": "code",
   "execution_count": 10,
   "metadata": {},
   "outputs": [],
   "source": [
    "model.add(LSTM(500, return_sequences=True))\n",
    "model.add(Dropout(0.2))"
   ]
  },
  {
   "cell_type": "code",
   "execution_count": 11,
   "metadata": {},
   "outputs": [],
   "source": [
    "model.add(Dense(500))"
   ]
  },
  {
   "cell_type": "code",
   "execution_count": 12,
   "metadata": {},
   "outputs": [],
   "source": [
    "model.add(LSTM(256, return_sequences=True))\n",
    "model.add(Dropout(0.2))"
   ]
  },
  {
   "cell_type": "code",
   "execution_count": 13,
   "metadata": {},
   "outputs": [],
   "source": [
    "model.add(LSTM(256))\n",
    "model.add(Dense(256))\n",
    "model.add(Dropout(0.2))"
   ]
  },
  {
   "cell_type": "code",
   "execution_count": 14,
   "metadata": {},
   "outputs": [],
   "source": [
    "model.add(Dense(n_vocab))"
   ]
  },
  {
   "cell_type": "code",
   "execution_count": 15,
   "metadata": {},
   "outputs": [],
   "source": [
    "model.add(Activation('softmax'))"
   ]
  },
  {
   "cell_type": "code",
   "execution_count": 16,
   "metadata": {},
   "outputs": [],
   "source": [
    "model.compile(loss='categorical_crossentropy', optimizer='adam', metrics=['accuracy'])"
   ]
  },
  {
   "cell_type": "code",
   "execution_count": 17,
   "metadata": {},
   "outputs": [],
   "source": [
    "#loading the trained model\n",
    "model.load_weights('Model_Weights.hdf5')"
   ]
  },
  {
   "cell_type": "code",
   "execution_count": 18,
   "metadata": {},
   "outputs": [],
   "source": [
    "#Finging a random note or chord to start from\n",
    "start = np.random.randint(0, len(network_input)-1)"
   ]
  },
  {
   "cell_type": "code",
   "execution_count": 19,
   "metadata": {},
   "outputs": [],
   "source": [
    "pattern = network_input[start]\n",
    "prediction_output = []"
   ]
  },
  {
   "cell_type": "code",
   "execution_count": 20,
   "metadata": {},
   "outputs": [],
   "source": [
    "#Prediction the next note storing it in the array and predicting the note with new array formed\n",
    "for note_index in range(500):\n",
    "    prediction_input = np.reshape(pattern, (1, len(pattern), 1))\n",
    "    prediction = model.predict(prediction_input)\n",
    "    index = np.where(prediction == np.amax(prediction))\n",
    "    result = int_to_note[index[1][0]]\n",
    "    prediction_output.append(result)\n",
    "    pattern = np.append(pattern, index[1]/n_vocab)\n",
    "    pattern = pattern[1:len(pattern)]"
   ]
  },
  {
   "cell_type": "code",
   "execution_count": 21,
   "metadata": {},
   "outputs": [],
   "source": [
    "offset = 0\n",
    "output_notes = []"
   ]
  },
  {
   "cell_type": "code",
   "execution_count": 22,
   "metadata": {},
   "outputs": [],
   "source": [
    "from music21 import *"
   ]
  },
  {
   "cell_type": "code",
   "execution_count": 23,
   "metadata": {},
   "outputs": [],
   "source": [
    "# converting the notes and chords into music21 object\n",
    "for pattern in prediction_output:\n",
    "    # chord\n",
    "    if ('.' in pattern) or pattern.isdigit():\n",
    "        notes_in_chord = pattern.split('.')\n",
    "        notes = []\n",
    "        for current_note in notes_in_chord:\n",
    "            new_note = note.Note(int(current_note))\n",
    "            new_note.storedInstrument = instrument.Piano()\n",
    "            notes.append(new_note)\n",
    "        new_chord = chord.Chord(notes)\n",
    "        new_chord.offset = offset\n",
    "        output_notes.append(new_chord)\n",
    "    # note\n",
    "    else:\n",
    "        new_note = note.Note(pattern)\n",
    "        new_note.offset = offset\n",
    "        new_note.storedInstrument = instrument.Piano()\n",
    "        output_notes.append(new_note)\n",
    "    \n",
    "    offset += 0.5"
   ]
  },
  {
   "cell_type": "code",
   "execution_count": 24,
   "metadata": {},
   "outputs": [
    {
     "data": {
      "text/plain": [
       "'Generated_Melody.mid'"
      ]
     },
     "execution_count": 24,
     "metadata": {},
     "output_type": "execute_result"
    }
   ],
   "source": [
    "#Converting note and chord objects into a stream object and creating and midi file\n",
    "midi_stream = stream.Stream(output_notes)\n",
    "midi_stream.write('midi', fp='Generated_Melody.mid')"
   ]
  },
  {
   "cell_type": "code",
   "execution_count": 25,
   "metadata": {},
   "outputs": [],
   "source": [
    "# creating a score object of stream to hear the final output\n",
    "m = converter.parse('Generated_Melody.mid')"
   ]
  },
  {
   "cell_type": "markdown",
   "metadata": {},
   "source": [
    "### Results"
   ]
  },
  {
   "cell_type": "code",
   "execution_count": 26,
   "metadata": {},
   "outputs": [
    {
     "data": {
      "text/html": [
       "\n",
       "                <div id='midiPlayerDiv7537'></div>\n",
       "                <link rel=\"stylesheet\" href=\"//cuthbertLab.github.io/music21j/css/m21.css\"\n",
       "                    type=\"text/css\" />\n",
       "                <script>\n",
       "                require.config({\n",
       "                    paths: {'music21': '//cuthbertLab.github.io/music21j/src/music21'}\n",
       "                });\n",
       "                require(['music21'], function() {\n",
       "                               mp = new music21.miditools.MidiPlayer();\n",
       "                               mp.addPlayer('#midiPlayerDiv7537');\n",
       "                               mp.base64Load('data:audio/midi;base64,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');\n",
       "                        });\n",
       "                </script>"
      ],
      "text/plain": [
       "<IPython.core.display.HTML object>"
      ]
     },
     "metadata": {},
     "output_type": "display_data"
    }
   ],
   "source": [
    "m.show('midi')"
   ]
  }
 ],
 "metadata": {
  "kernelspec": {
   "display_name": "Python 3",
   "language": "python",
   "name": "python3"
  },
  "language_info": {
   "codemirror_mode": {
    "name": "ipython",
    "version": 3
   },
   "file_extension": ".py",
   "mimetype": "text/x-python",
   "name": "python",
   "nbconvert_exporter": "python",
   "pygments_lexer": "ipython3",
   "version": "3.8.3"
  }
 },
 "nbformat": 4,
 "nbformat_minor": 4
}
